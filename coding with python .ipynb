{
 "cells": [
  {
   "cell_type": "markdown",
   "metadata": {},
   "source": [
    "### Jody Tran - Coding with Python\n",
    "\n",
    "## Task 1\n",
    "---\n",
    "#### Using Python to see how the *Times* writes about men and women\n",
    "##### By Neal Caren\n",
    "\n",
    "This notebook is looking what results of men and women come up in the newpaper [link](https://nbviewer.jupyter.org/gist/nealcaren/5105037).  They use Python to look at the text data and they use a module **nltk** which is a suite for text processing and analysis.  They store words associated men and women, then process that through a function that will give the word a gender.  In the end it prints out the final results of percentages a certain word comes up for men and women.  I think this interesting because this type of research requires going through lots of text files and processing through each word.  "
   ]
  },
  {
   "cell_type": "markdown",
   "metadata": {},
   "source": [
    "## Task 2\n",
    "---\n",
    "**A.** The most important Python libraries and packages that are used for data science are:\n",
    "    - Numpy\n",
    "    - Pandas\n",
    "    - Matplotlib\n",
    "    - Scikit-Learn\n",
    "    - Scipy\n",
    "   \n",
    "   souce: [data36](https://data36.com/python-libraries-packages-data-scientists/)\n",
    "   \n",
    "   [NumPy](www.numpy.org) helps manage multi-dimensional arrays.  It can make functions and has tools to intergrate C/C++ and Fortran code.  \n",
    "\n",
    "\n",
    "**B.** [Matplotlib](https://matplotlib.org) could be a relative package for GEOG 458 because it helps with data visualization.  It does 2D graphs but it provides a lot of different types of visuals such as histograms, bar charts, scatterplots, etc.\n",
    "\n",
    "\n",
    "**C.** [Pandas](https://pandas.pydata.org) aka *SQL of Python*.  With Pandas, we can load our dataframes in and look at columns, use filters, group by's, run functions, etc.  It can index and do subsets of large data too."
   ]
  },
  {
   "cell_type": "markdown",
   "metadata": {},
   "source": [
    "## Task 3\n",
    "---\n",
    "A few difference between R and Python are the way they read in files like csv files.  In R, we can just use \"read.csv(...)\" but with Python the syntax has the \"pandas\" in the beginning so it is \"pandas.read_csv(...)\"  In Python we need to use pandas to call in different data files.  Calling different packages are different too.  In R, we install the packages then can call them with \"library(...)\" but in Python its called importing and can name them with something else to shorten it.  And R has more data analysis built-in while Python uses a lot of packages to do data analysis."
   ]
  },
  {
   "cell_type": "code",
   "execution_count": 85,
   "metadata": {
    "scrolled": true
   },
   "outputs": [
    {
     "name": "stdout",
     "output_type": "stream",
     "text": [
      "I am not a Penguin\n",
      "I AM NOT A 1000 PENGUIN\n",
      "['I am', 'not a', '1000', 'Penguin']\n",
      "I am not a 1000 Penguin\n",
      "3\n",
      "2\n",
      "I am not a\n",
      "I am not a small Penguin\n"
     ]
    },
    {
     "data": {
      "text/plain": [
       "['Hello', 'I', 'am', 'not', 'a', 'small', 'Penguin']"
      ]
     },
     "execution_count": 85,
     "metadata": {},
     "output_type": "execute_result"
    }
   ],
   "source": [
    "#Task 4\n",
    "\n",
    "x = \"Penguin\"\n",
    "y = \"I am\"\n",
    "z = \"not a\"\n",
    "print y + \" \" + z + \" \" + x\n",
    "\n",
    "#Task 5\n",
    "\n",
    "num = 1000\n",
    "print y.upper() + \" \" + z.upper() + \" \" + str(num) + \" \" + x.upper()\n",
    "\n",
    "#Task 6\n",
    "\n",
    "mylist = [\"I am\", \"not a\", \"1000\", \"Penguin\"]\n",
    "print mylist\n",
    "string_space = \" \"\n",
    "newver = string_space.join(mylist)\n",
    "print newver\n",
    "print newver.count(\"n\")\n",
    "print newver.find(\"am\")\n",
    "\n",
    "#Task 7\n",
    "\n",
    "print newver[0:10]\n",
    "\n",
    "#Task 8\n",
    "\n",
    "newver2 = newver.replace(\"1000\", \"small\")\n",
    "print newver2\n",
    "\n",
    "#Task 9\n",
    "\n",
    "newver3 = newver2.split(\" \")\n",
    "newver3.insert(0, \"Hello\")\n",
    "newver3\n"
   ]
  },
  {
   "cell_type": "code",
   "execution_count": 167,
   "metadata": {},
   "outputs": [
    {
     "name": "stdout",
     "output_type": "stream",
     "text": [
      "7\n",
      "1st Quartile\n"
     ]
    }
   ],
   "source": [
    "#Task 10\n",
    "\n",
    "import random\n",
    "x = random.randint(1,100)\n",
    "print x\n",
    "if x <= 25:\n",
    "    print \"1st Quartile\"\n",
    "elif 25 < x <= 50:\n",
    "    print \"2nd Quartile\"\n",
    "elif 50 < x <= 75:\n",
    "    print \"3rd Quartile\"\n",
    "elif 75 < x <= 100:\n",
    "    print \"4th Quartile\"\n",
    "\n"
   ]
  },
  {
   "cell_type": "code",
   "execution_count": 185,
   "metadata": {},
   "outputs": [
    {
     "name": "stdout",
     "output_type": "stream",
     "text": [
      "Warning, residents of Seattle, temperatures will reach sub-zero temperatures today, please stay indoors if possible\n",
      "Warning, residents of Vancouver, temperatures will reach sub-zero temperatures today, please stay indoors if possible\n",
      "Warning, residents of Spokane, temperatures will reach sub-zero temperatures today, please stay indoors if possible\n",
      "Warning, residents of Tacoma, temperatures will reach sub-zero temperatures today, please stay indoors if possible\n",
      "Warning, residents of Bellevue, temperatures will reach sub-zero temperatures today, please stay indoors if possible\n",
      "Warning, residents of Everett, temperatures will reach sub-zero temperatures today, please stay indoors if possible\n"
     ]
    }
   ],
   "source": [
    "#Task 11\n",
    "\n",
    "for city in [\"Seattle\", \"Vancouver\", \"Spokane\", \"Tacoma\", \"Bellevue\", \"Everett\"]:\n",
    "    print \"Warning, residents of \" + city + \", temperatures will reach sub-zero temperatures today, please stay indoors if possible\"\n"
   ]
  },
  {
   "cell_type": "code",
   "execution_count": 193,
   "metadata": {},
   "outputs": [
    {
     "name": "stdout",
     "output_type": "stream",
     "text": [
      "U://Users/Tran/Geog_458/Washington.shp\n",
      "U://Users/Tran/Geog_458/California.shp\n",
      "U://Users/Tran/Geog_458/Nevada.shp\n",
      "U://Users/Tran/Geog_458/Idaho.shp\n",
      "U://Users/Tran/Geog_458/Montana.shp\n",
      "U://Users/Tran/Geog_458/Utah.shp\n",
      "U://Users/Tran/Geog_458/Colorado.shp\n",
      "U://Users/Tran/Geog_458/New Mexico.shp\n"
     ]
    }
   ],
   "source": [
    "#Task 12\n",
    "\n",
    "list = []\n",
    "list.append(\"Washington\")\n",
    "list.append(\"California\")\n",
    "list.append(\"Nevada\")\n",
    "list.append(\"Idaho\")\n",
    "list.append(\"Montana\")\n",
    "list.append(\"Utah\")\n",
    "list.append(\"Colorado\")\n",
    "list.append(\"New Mexico\")\n",
    "list\n",
    "\n",
    "for place in list:\n",
    "    print \"U://Users/Tran/Geog_458/\" + place + \".shp\"\n",
    "\n"
   ]
  },
  {
   "cell_type": "code",
   "execution_count": 1,
   "metadata": {},
   "outputs": [
    {
     "name": "stdout",
     "output_type": "stream",
     "text": [
      "T-minus 10\n",
      "T-minus 9\n",
      "T-minus 8\n",
      "T-minus 7\n",
      "T-minus 6\n",
      "T-minus 5\n",
      "T-minus 4\n",
      "T-minus 3\n",
      "T-minus 2\n",
      "T-minus 1\n",
      "T-minus 0\n"
     ]
    }
   ],
   "source": [
    "#Task 13\n",
    "\n",
    "i = 10\n",
    "while i >= 0:\n",
    "    print \"T-minus\", i\n",
    "    i -=1\n"
   ]
  },
  {
   "cell_type": "code",
   "execution_count": 4,
   "metadata": {},
   "outputs": [
    {
     "data": {
      "text/plain": [
       "('T-minus', 5)"
      ]
     },
     "execution_count": 4,
     "metadata": {},
     "output_type": "execute_result"
    }
   ],
   "source": [
    "#Task 14\n",
    "\n",
    "def countdown(i):\n",
    "    for num in range(i):\n",
    "        while i >= 0:\n",
    "            return \"T-minus\", i\n",
    "            i -=1\n",
    "\n",
    "countdown(5)\n"
   ]
  },
  {
   "cell_type": "code",
   "execution_count": 2,
   "metadata": {},
   "outputs": [
    {
     "data": {
      "text/plain": [
       "'2nd Quartile'"
      ]
     },
     "execution_count": 2,
     "metadata": {},
     "output_type": "execute_result"
    }
   ],
   "source": [
    "#Task 15\n",
    "\n",
    "def quartile_calc(x):\n",
    "    if 0 < x <= 25:\n",
    "        return \"1st Quartile\"\n",
    "    elif 25 < x <= 50:\n",
    "        return \"2nd Quartile\"\n",
    "    elif 50 < x <= 75:\n",
    "        return \"3rd Quartile\"\n",
    "    elif 75 < x <= 100:\n",
    "        return \"4th Quartile\"\n",
    "    elif x <= 0 or x > 100:\n",
    "        return \"Error\"\n",
    "\n",
    "quartile_calc(0)\n",
    "quartile_calc(30)\n"
   ]
  }
 ],
 "metadata": {
  "kernelspec": {
   "display_name": "Python 2",
   "language": "python",
   "name": "python2"
  },
  "language_info": {
   "codemirror_mode": {
    "name": "ipython",
    "version": 2
   },
   "file_extension": ".py",
   "mimetype": "text/x-python",
   "name": "python",
   "nbconvert_exporter": "python",
   "pygments_lexer": "ipython2",
   "version": "2.7.15"
  }
 },
 "nbformat": 4,
 "nbformat_minor": 2
}
